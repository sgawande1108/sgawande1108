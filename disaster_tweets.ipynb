{
 "cells": [
  {
   "cell_type": "markdown",
   "id": "3c4987d5",
   "metadata": {},
   "source": [
    "# NLP- Disaster Tweets"
   ]
  },
  {
   "cell_type": "markdown",
   "id": "82192b08",
   "metadata": {},
   "source": [
    "### 1. Import Libraries"
   ]
  },
  {
   "cell_type": "code",
   "execution_count": 31,
   "id": "95931ca6",
   "metadata": {},
   "outputs": [],
   "source": [
    "import pandas as pd\n",
    "import numpy as np\n",
    "\n",
    "import matplotlib.pyplot as plt\n",
    "import seaborn as sns\n",
    "\n",
    "from sklearn.feature_extraction.text import TfidfVectorizer\n",
    "from sklearn.model_selection import train_test_split\n",
    "from sklearn.linear_model import LogisticRegression\n",
    "from sklearn.ensemble import RandomForestClassifier\n",
    "from sklearn.naive_bayes import MultinomialNB\n",
    "from sklearn.svm  import SVC\n",
    "from sklearn.metrics import accuracy_score, classification_report,confusion_matrix\n",
    "\n",
    "import re\n",
    "import string\n",
    "import nltk\n",
    "from nltk.corpus import stopwords\n",
    "from nltk.tokenize import word_tokenize\n",
    "from nltk.stem import WordNetLemmatizer\n",
    "from nltk.stem import PorterStemmer\n",
    "\n",
    "import warnings\n",
    "warnings.filterwarnings('ignore')"
   ]
  },
  {
   "cell_type": "markdown",
   "id": "ae2aec67",
   "metadata": {},
   "source": [
    "### 2. Load Dataset"
   ]
  },
  {
   "cell_type": "code",
   "execution_count": 2,
   "id": "28398fdd",
   "metadata": {},
   "outputs": [
    {
     "data": {
      "text/html": [
       "<div>\n",
       "<style scoped>\n",
       "    .dataframe tbody tr th:only-of-type {\n",
       "        vertical-align: middle;\n",
       "    }\n",
       "\n",
       "    .dataframe tbody tr th {\n",
       "        vertical-align: top;\n",
       "    }\n",
       "\n",
       "    .dataframe thead th {\n",
       "        text-align: right;\n",
       "    }\n",
       "</style>\n",
       "<table border=\"1\" class=\"dataframe\">\n",
       "  <thead>\n",
       "    <tr style=\"text-align: right;\">\n",
       "      <th></th>\n",
       "      <th>id</th>\n",
       "      <th>keyword</th>\n",
       "      <th>location</th>\n",
       "      <th>text</th>\n",
       "      <th>target</th>\n",
       "    </tr>\n",
       "  </thead>\n",
       "  <tbody>\n",
       "    <tr>\n",
       "      <th>0</th>\n",
       "      <td>1</td>\n",
       "      <td>NaN</td>\n",
       "      <td>NaN</td>\n",
       "      <td>Our Deeds are the Reason of this #earthquake M...</td>\n",
       "      <td>1</td>\n",
       "    </tr>\n",
       "    <tr>\n",
       "      <th>1</th>\n",
       "      <td>4</td>\n",
       "      <td>NaN</td>\n",
       "      <td>NaN</td>\n",
       "      <td>Forest fire near La Ronge Sask. Canada</td>\n",
       "      <td>1</td>\n",
       "    </tr>\n",
       "    <tr>\n",
       "      <th>2</th>\n",
       "      <td>5</td>\n",
       "      <td>NaN</td>\n",
       "      <td>NaN</td>\n",
       "      <td>All residents asked to 'shelter in place' are ...</td>\n",
       "      <td>1</td>\n",
       "    </tr>\n",
       "    <tr>\n",
       "      <th>3</th>\n",
       "      <td>6</td>\n",
       "      <td>NaN</td>\n",
       "      <td>NaN</td>\n",
       "      <td>13,000 people receive #wildfires evacuation or...</td>\n",
       "      <td>1</td>\n",
       "    </tr>\n",
       "    <tr>\n",
       "      <th>4</th>\n",
       "      <td>7</td>\n",
       "      <td>NaN</td>\n",
       "      <td>NaN</td>\n",
       "      <td>Just got sent this photo from Ruby #Alaska as ...</td>\n",
       "      <td>1</td>\n",
       "    </tr>\n",
       "  </tbody>\n",
       "</table>\n",
       "</div>"
      ],
      "text/plain": [
       "   id keyword location                                               text  \\\n",
       "0   1     NaN      NaN  Our Deeds are the Reason of this #earthquake M...   \n",
       "1   4     NaN      NaN             Forest fire near La Ronge Sask. Canada   \n",
       "2   5     NaN      NaN  All residents asked to 'shelter in place' are ...   \n",
       "3   6     NaN      NaN  13,000 people receive #wildfires evacuation or...   \n",
       "4   7     NaN      NaN  Just got sent this photo from Ruby #Alaska as ...   \n",
       "\n",
       "   target  \n",
       "0       1  \n",
       "1       1  \n",
       "2       1  \n",
       "3       1  \n",
       "4       1  "
      ]
     },
     "execution_count": 2,
     "metadata": {},
     "output_type": "execute_result"
    }
   ],
   "source": [
    "train_data=pd.read_csv('train.csv')\n",
    "train_data.head()"
   ]
  },
  {
   "cell_type": "code",
   "execution_count": 3,
   "id": "7a5c4239",
   "metadata": {},
   "outputs": [
    {
     "data": {
      "text/plain": [
       "(7613, 5)"
      ]
     },
     "execution_count": 3,
     "metadata": {},
     "output_type": "execute_result"
    }
   ],
   "source": [
    "train_data.shape"
   ]
  },
  {
   "cell_type": "code",
   "execution_count": 4,
   "id": "6d7eef05",
   "metadata": {},
   "outputs": [
    {
     "data": {
      "text/html": [
       "<div>\n",
       "<style scoped>\n",
       "    .dataframe tbody tr th:only-of-type {\n",
       "        vertical-align: middle;\n",
       "    }\n",
       "\n",
       "    .dataframe tbody tr th {\n",
       "        vertical-align: top;\n",
       "    }\n",
       "\n",
       "    .dataframe thead th {\n",
       "        text-align: right;\n",
       "    }\n",
       "</style>\n",
       "<table border=\"1\" class=\"dataframe\">\n",
       "  <thead>\n",
       "    <tr style=\"text-align: right;\">\n",
       "      <th></th>\n",
       "      <th>id</th>\n",
       "      <th>keyword</th>\n",
       "      <th>location</th>\n",
       "      <th>text</th>\n",
       "    </tr>\n",
       "  </thead>\n",
       "  <tbody>\n",
       "    <tr>\n",
       "      <th>0</th>\n",
       "      <td>0</td>\n",
       "      <td>NaN</td>\n",
       "      <td>NaN</td>\n",
       "      <td>Just happened a terrible car crash</td>\n",
       "    </tr>\n",
       "    <tr>\n",
       "      <th>1</th>\n",
       "      <td>2</td>\n",
       "      <td>NaN</td>\n",
       "      <td>NaN</td>\n",
       "      <td>Heard about #earthquake is different cities, s...</td>\n",
       "    </tr>\n",
       "    <tr>\n",
       "      <th>2</th>\n",
       "      <td>3</td>\n",
       "      <td>NaN</td>\n",
       "      <td>NaN</td>\n",
       "      <td>there is a forest fire at spot pond, geese are...</td>\n",
       "    </tr>\n",
       "    <tr>\n",
       "      <th>3</th>\n",
       "      <td>9</td>\n",
       "      <td>NaN</td>\n",
       "      <td>NaN</td>\n",
       "      <td>Apocalypse lighting. #Spokane #wildfires</td>\n",
       "    </tr>\n",
       "    <tr>\n",
       "      <th>4</th>\n",
       "      <td>11</td>\n",
       "      <td>NaN</td>\n",
       "      <td>NaN</td>\n",
       "      <td>Typhoon Soudelor kills 28 in China and Taiwan</td>\n",
       "    </tr>\n",
       "  </tbody>\n",
       "</table>\n",
       "</div>"
      ],
      "text/plain": [
       "   id keyword location                                               text\n",
       "0   0     NaN      NaN                 Just happened a terrible car crash\n",
       "1   2     NaN      NaN  Heard about #earthquake is different cities, s...\n",
       "2   3     NaN      NaN  there is a forest fire at spot pond, geese are...\n",
       "3   9     NaN      NaN           Apocalypse lighting. #Spokane #wildfires\n",
       "4  11     NaN      NaN      Typhoon Soudelor kills 28 in China and Taiwan"
      ]
     },
     "execution_count": 4,
     "metadata": {},
     "output_type": "execute_result"
    }
   ],
   "source": [
    "test_data=pd.read_csv('test.csv')\n",
    "test_data.head()"
   ]
  },
  {
   "cell_type": "code",
   "execution_count": 5,
   "id": "b9376d68",
   "metadata": {},
   "outputs": [
    {
     "data": {
      "text/plain": [
       "(3263, 4)"
      ]
     },
     "execution_count": 5,
     "metadata": {},
     "output_type": "execute_result"
    }
   ],
   "source": [
    "test_data.shape"
   ]
  },
  {
   "cell_type": "code",
   "execution_count": 6,
   "id": "6eee7d84",
   "metadata": {},
   "outputs": [
    {
     "name": "stdout",
     "output_type": "stream",
     "text": [
      "<class 'pandas.core.frame.DataFrame'>\n",
      "RangeIndex: 7613 entries, 0 to 7612\n",
      "Data columns (total 5 columns):\n",
      " #   Column    Non-Null Count  Dtype \n",
      "---  ------    --------------  ----- \n",
      " 0   id        7613 non-null   int64 \n",
      " 1   keyword   7552 non-null   object\n",
      " 2   location  5080 non-null   object\n",
      " 3   text      7613 non-null   object\n",
      " 4   target    7613 non-null   int64 \n",
      "dtypes: int64(2), object(3)\n",
      "memory usage: 297.5+ KB\n"
     ]
    }
   ],
   "source": [
    "train_data.info()"
   ]
  },
  {
   "cell_type": "code",
   "execution_count": 7,
   "id": "658c854d",
   "metadata": {},
   "outputs": [
    {
     "name": "stdout",
     "output_type": "stream",
     "text": [
      "<class 'pandas.core.frame.DataFrame'>\n",
      "RangeIndex: 3263 entries, 0 to 3262\n",
      "Data columns (total 4 columns):\n",
      " #   Column    Non-Null Count  Dtype \n",
      "---  ------    --------------  ----- \n",
      " 0   id        3263 non-null   int64 \n",
      " 1   keyword   3237 non-null   object\n",
      " 2   location  2158 non-null   object\n",
      " 3   text      3263 non-null   object\n",
      "dtypes: int64(1), object(3)\n",
      "memory usage: 102.1+ KB\n"
     ]
    }
   ],
   "source": [
    "test_data.info()"
   ]
  },
  {
   "cell_type": "code",
   "execution_count": 8,
   "id": "7bdff97b",
   "metadata": {},
   "outputs": [
    {
     "data": {
      "text/plain": [
       "0"
      ]
     },
     "execution_count": 8,
     "metadata": {},
     "output_type": "execute_result"
    }
   ],
   "source": [
    "train_data.duplicated().sum()"
   ]
  },
  {
   "cell_type": "markdown",
   "id": "da889181",
   "metadata": {},
   "source": [
    "- Showing unique values and number of unique values in each column"
   ]
  },
  {
   "cell_type": "code",
   "execution_count": 58,
   "id": "7c0bd304",
   "metadata": {},
   "outputs": [
    {
     "data": {
      "text/plain": [
       "text            7503\n",
       "target             2\n",
       "cleaned_text    7467\n",
       "dtype: int64"
      ]
     },
     "execution_count": 58,
     "metadata": {},
     "output_type": "execute_result"
    }
   ],
   "source": [
    "train_data.nunique()"
   ]
  },
  {
   "cell_type": "markdown",
   "id": "80f39599",
   "metadata": {},
   "source": [
    "-  Show Distribution of 2 Values in target Column"
   ]
  },
  {
   "cell_type": "code",
   "execution_count": 10,
   "id": "8bb00c5d",
   "metadata": {},
   "outputs": [
    {
     "data": {
      "image/png": "[encoded data removed]",
      "text/plain": [
       "<Figure size 720x360 with 1 Axes>"
      ]
     },
     "metadata": {
      "needs_background": "light"
     },
     "output_type": "display_data"
    }
   ],
   "source": [
    "\n",
    "plt.figure(figsize=(10,5))\n",
    "ax=sns.countplot(x='target',data=train_data,palette='pastel')\n",
    "plt.title('Distribution of Target Column')\n",
    "\n",
    "total = len(train_data['target'])\n",
    "for p in ax.patches:\n",
    "    height = p.get_height()  # Get the height of each bar\n",
    "    percentage = f'{100 * height / total:.2f}%'  # Calculate percentage\n",
    "    ax.annotate(percentage,                      # The text to display\n",
    "                (p.get_x() + p.get_width() / 2., height),  # Position the text\n",
    "                ha='center', va='bottom')        # Center it\n",
    "\n",
    "plt.show()"
   ]
  },
  {
   "cell_type": "markdown",
   "id": "0e55f8ac",
   "metadata": {},
   "source": [
    "-  Checking and Handling missing Values"
   ]
  },
  {
   "cell_type": "code",
   "execution_count": 11,
   "id": "8483a2e8",
   "metadata": {},
   "outputs": [
    {
     "data": {
      "text/plain": [
       "id             0\n",
       "keyword       61\n",
       "location    2533\n",
       "text           0\n",
       "target         0\n",
       "dtype: int64"
      ]
     },
     "execution_count": 11,
     "metadata": {},
     "output_type": "execute_result"
    }
   ],
   "source": [
    "\n",
    "train_data.isna().sum()\n"
   ]
  },
  {
   "cell_type": "markdown",
   "id": "9822e5b6",
   "metadata": {},
   "source": [
    "- Observation:\n",
    "\n",
    "- There are null values in 2 columns keyword,location."
   ]
  },
  {
   "cell_type": "code",
   "execution_count": 13,
   "id": "005ca5fc",
   "metadata": {},
   "outputs": [
    {
     "data": {
      "text/plain": [
       "33.27203467752528"
      ]
     },
     "execution_count": 13,
     "metadata": {},
     "output_type": "execute_result"
    }
   ],
   "source": [
    "# Show Percentage of null values in keyword,location\n",
    "\n",
    "train_data['location'].isna().sum()/train_data.shape[0]*100"
   ]
  },
  {
   "cell_type": "code",
   "execution_count": 14,
   "id": "9508f142",
   "metadata": {},
   "outputs": [
    {
     "data": {
      "text/plain": [
       "0.8012610009194797"
      ]
     },
     "execution_count": 14,
     "metadata": {},
     "output_type": "execute_result"
    }
   ],
   "source": [
    "train_data['keyword'].isna().sum()/train_data.shape[0]*100"
   ]
  },
  {
   "cell_type": "code",
   "execution_count": 15,
   "id": "86cf6bbe",
   "metadata": {},
   "outputs": [
    {
     "data": {
      "image/png": "[encoded data removed]",
      "text/plain": [
       "<Figure size 720x360 with 1 Axes>"
      ]
     },
     "metadata": {
      "needs_background": "light"
     },
     "output_type": "display_data"
    }
   ],
   "source": [
    "# Visualization of Null values\n",
    "\n",
    "plt.figure(figsize=(10,5))\n",
    "sns.heatmap(data=train_data.isna(),yticklabels=False,cbar=False,cmap='viridis')\n",
    "plt.xticks(rotation=40)\n",
    "plt.show()"
   ]
  },
  {
   "cell_type": "markdown",
   "id": "c75dbdc7",
   "metadata": {},
   "source": [
    "- Observation:\n",
    "- As id Column isn't usefull at all,I will drop it.\n",
    "\n",
    "- Location Column has 33.27 % Null value,So I decided to drop it.\n",
    "\n",
    "- keyword Column which has 0.8 % Null value and It includs only one word from tweet,So I see it's useless and I decided to remove it.\n",
    "\n",
    "- The main aim is to classify tweet if's disaster or not,So I will keep only 2 columns which represents this problem: text,target."
   ]
  },
  {
   "cell_type": "code",
   "execution_count": 16,
   "id": "8e06be2b",
   "metadata": {},
   "outputs": [],
   "source": [
    "train_data.drop(columns='id',inplace=True)"
   ]
  },
  {
   "cell_type": "code",
   "execution_count": 17,
   "id": "eeebb79d",
   "metadata": {},
   "outputs": [],
   "source": [
    "train_data.drop(columns=['location','keyword'],inplace=True)"
   ]
  },
  {
   "cell_type": "code",
   "execution_count": 18,
   "id": "a19cd4b9",
   "metadata": {},
   "outputs": [
    {
     "data": {
      "text/html": [
       "<div>\n",
       "<style scoped>\n",
       "    .dataframe tbody tr th:only-of-type {\n",
       "        vertical-align: middle;\n",
       "    }\n",
       "\n",
       "    .dataframe tbody tr th {\n",
       "        vertical-align: top;\n",
       "    }\n",
       "\n",
       "    .dataframe thead th {\n",
       "        text-align: right;\n",
       "    }\n",
       "</style>\n",
       "<table border=\"1\" class=\"dataframe\">\n",
       "  <thead>\n",
       "    <tr style=\"text-align: right;\">\n",
       "      <th></th>\n",
       "      <th>text</th>\n",
       "      <th>target</th>\n",
       "    </tr>\n",
       "  </thead>\n",
       "  <tbody>\n",
       "    <tr>\n",
       "      <th>0</th>\n",
       "      <td>Our Deeds are the Reason of this #earthquake M...</td>\n",
       "      <td>1</td>\n",
       "    </tr>\n",
       "    <tr>\n",
       "      <th>1</th>\n",
       "      <td>Forest fire near La Ronge Sask. Canada</td>\n",
       "      <td>1</td>\n",
       "    </tr>\n",
       "    <tr>\n",
       "      <th>2</th>\n",
       "      <td>All residents asked to 'shelter in place' are ...</td>\n",
       "      <td>1</td>\n",
       "    </tr>\n",
       "    <tr>\n",
       "      <th>3</th>\n",
       "      <td>13,000 people receive #wildfires evacuation or...</td>\n",
       "      <td>1</td>\n",
       "    </tr>\n",
       "    <tr>\n",
       "      <th>4</th>\n",
       "      <td>Just got sent this photo from Ruby #Alaska as ...</td>\n",
       "      <td>1</td>\n",
       "    </tr>\n",
       "    <tr>\n",
       "      <th>...</th>\n",
       "      <td>...</td>\n",
       "      <td>...</td>\n",
       "    </tr>\n",
       "    <tr>\n",
       "      <th>7608</th>\n",
       "      <td>Two giant cranes holding a bridge collapse int...</td>\n",
       "      <td>1</td>\n",
       "    </tr>\n",
       "    <tr>\n",
       "      <th>7609</th>\n",
       "      <td>@aria_ahrary @TheTawniest The out of control w...</td>\n",
       "      <td>1</td>\n",
       "    </tr>\n",
       "    <tr>\n",
       "      <th>7610</th>\n",
       "      <td>M1.94 [01:04 UTC]?5km S of Volcano Hawaii. htt...</td>\n",
       "      <td>1</td>\n",
       "    </tr>\n",
       "    <tr>\n",
       "      <th>7611</th>\n",
       "      <td>Police investigating after an e-bike collided ...</td>\n",
       "      <td>1</td>\n",
       "    </tr>\n",
       "    <tr>\n",
       "      <th>7612</th>\n",
       "      <td>The Latest: More Homes Razed by Northern Calif...</td>\n",
       "      <td>1</td>\n",
       "    </tr>\n",
       "  </tbody>\n",
       "</table>\n",
       "<p>7613 rows × 2 columns</p>\n",
       "</div>"
      ],
      "text/plain": [
       "                                                   text  target\n",
       "0     Our Deeds are the Reason of this #earthquake M...       1\n",
       "1                Forest fire near La Ronge Sask. Canada       1\n",
       "2     All residents asked to 'shelter in place' are ...       1\n",
       "3     13,000 people receive #wildfires evacuation or...       1\n",
       "4     Just got sent this photo from Ruby #Alaska as ...       1\n",
       "...                                                 ...     ...\n",
       "7608  Two giant cranes holding a bridge collapse int...       1\n",
       "7609  @aria_ahrary @TheTawniest The out of control w...       1\n",
       "7610  M1.94 [01:04 UTC]?5km S of Volcano Hawaii. htt...       1\n",
       "7611  Police investigating after an e-bike collided ...       1\n",
       "7612  The Latest: More Homes Razed by Northern Calif...       1\n",
       "\n",
       "[7613 rows x 2 columns]"
      ]
     },
     "execution_count": 18,
     "metadata": {},
     "output_type": "execute_result"
    }
   ],
   "source": [
    "train_data"
   ]
  },
  {
   "cell_type": "code",
   "execution_count": 19,
   "id": "8be62e42",
   "metadata": {},
   "outputs": [
    {
     "data": {
      "text/plain": [
       "text      0\n",
       "target    0\n",
       "dtype: int64"
      ]
     },
     "execution_count": 19,
     "metadata": {},
     "output_type": "execute_result"
    }
   ],
   "source": [
    "# Check for Null Values and Duplicated Rows After Removing id,keyword,location Columns\n",
    "\n",
    "train_data.isna().sum()\n"
   ]
  },
  {
   "cell_type": "code",
   "execution_count": 20,
   "id": "358d24c9",
   "metadata": {},
   "outputs": [
    {
     "data": {
      "text/plain": [
       "92"
      ]
     },
     "execution_count": 20,
     "metadata": {},
     "output_type": "execute_result"
    }
   ],
   "source": [
    "train_data.duplicated().sum()"
   ]
  },
  {
   "cell_type": "markdown",
   "id": "7c680768",
   "metadata": {},
   "source": [
    "- We observe that:\n",
    "1. There isn't any null value in 2 columns.\n",
    "\n",
    "2. There are 92 duplicated rows,So we must drop them all."
   ]
  },
  {
   "cell_type": "code",
   "execution_count": 21,
   "id": "1ba14364",
   "metadata": {},
   "outputs": [],
   "source": [
    "train_data.drop_duplicates(inplace=True)"
   ]
  },
  {
   "cell_type": "code",
   "execution_count": 22,
   "id": "1a294ee8",
   "metadata": {},
   "outputs": [
    {
     "data": {
      "text/plain": [
       "0"
      ]
     },
     "execution_count": 22,
     "metadata": {},
     "output_type": "execute_result"
    }
   ],
   "source": [
    "# Checking that duplicates are removed\n",
    "\n",
    "train_data.duplicated().sum()"
   ]
  },
  {
   "cell_type": "code",
   "execution_count": 23,
   "id": "3db7fba2",
   "metadata": {},
   "outputs": [
    {
     "data": {
      "text/plain": [
       "(7521, 2)"
      ]
     },
     "execution_count": 23,
     "metadata": {},
     "output_type": "execute_result"
    }
   ],
   "source": [
    "train_data.shape"
   ]
  },
  {
   "cell_type": "markdown",
   "id": "c5dc8bb6",
   "metadata": {},
   "source": [
    "### Preprocessing Tweets Text"
   ]
  },
  {
   "cell_type": "code",
   "execution_count": 24,
   "id": "1ea6fb39",
   "metadata": {},
   "outputs": [
    {
     "name": "stdout",
     "output_type": "stream",
     "text": [
      "<class 'pandas.core.frame.DataFrame'>\n",
      "Index: 7521 entries, 0 to 7612\n",
      "Data columns (total 2 columns):\n",
      " #   Column  Non-Null Count  Dtype \n",
      "---  ------  --------------  ----- \n",
      " 0   text    7521 non-null   object\n",
      " 1   target  7521 non-null   int64 \n",
      "dtypes: int64(1), object(1)\n",
      "memory usage: 176.3+ KB\n"
     ]
    }
   ],
   "source": [
    "train_data.info()"
   ]
  },
  {
   "cell_type": "code",
   "execution_count": 25,
   "id": "d3db5d24",
   "metadata": {},
   "outputs": [
    {
     "data": {
      "text/plain": [
       "0       Our Deeds are the Reason of this #earthquake M...\n",
       "1                  Forest fire near La Ronge Sask. Canada\n",
       "2       All residents asked to 'shelter in place' are ...\n",
       "3       13,000 people receive #wildfires evacuation or...\n",
       "4       Just got sent this photo from Ruby #Alaska as ...\n",
       "                              ...                        \n",
       "7604    #WorldNews Fallen powerlines on G:link tram: U...\n",
       "7605    on the flip side I'm at Walmart and there is a...\n",
       "7606    Suicide bomber kills 15 in Saudi security site...\n",
       "7608    Two giant cranes holding a bridge collapse int...\n",
       "7612    The Latest: More Homes Razed by Northern Calif...\n",
       "Name: text, Length: 7521, dtype: object"
      ]
     },
     "execution_count": 25,
     "metadata": {},
     "output_type": "execute_result"
    }
   ],
   "source": [
    "train_data['text']"
   ]
  },
  {
   "cell_type": "code",
   "execution_count": 27,
   "id": "d270359c",
   "metadata": {},
   "outputs": [],
   "source": [
    "stop_words=set(stopwords.words('english'))\n",
    "#lemmatization=WordNetLemmatizer()\n",
    "stemming=PorterStemmer()"
   ]
  },
  {
   "cell_type": "code",
   "execution_count": 28,
   "id": "0490b8f4",
   "metadata": {},
   "outputs": [],
   "source": [
    "def clean_text(text):\n",
    "    # 1. Convert to lower\n",
    "    text = text.lower()\n",
    "\n",
    "    # 2. Remove special characters (e.g., #, @, emojis)\n",
    "    text = re.sub(r'[^a-zA-Z\\s]', '', text)  # Keeps only letters and spaces\n",
    "\n",
    "    # 3. Split to words\n",
    "    tokens = word_tokenize(text)\n",
    "\n",
    "    # 4. Remove stopwords\n",
    "    tokens = [word for word in tokens if word not in stop_words]\n",
    "    \n",
    "    # 5. Remove numbers\n",
    "    tokens = [word for word in tokens if not word.isdigit()]\n",
    "\n",
    "    # 6. Apply Lemmatization\n",
    "    #tokens = [lematization.lemmatize(word) for word in tokens]\n",
    "\n",
    "    # 7. Apply Stemming\n",
    "    tokens = [stemming.stem(word) for word in tokens]\n",
    "\n",
    "    # To return these single words back into one string\n",
    "    return ' '.join(tokens)"
   ]
  },
  {
   "cell_type": "code",
   "execution_count": 29,
   "id": "d7b3474d",
   "metadata": {},
   "outputs": [],
   "source": [
    "train_data['cleaned_text']=train_data['text'].apply(clean_text)"
   ]
  },
  {
   "cell_type": "code",
   "execution_count": 30,
   "id": "29262453",
   "metadata": {},
   "outputs": [
    {
     "data": {
      "text/html": [
       "<div>\n",
       "<style scoped>\n",
       "    .dataframe tbody tr th:only-of-type {\n",
       "        vertical-align: middle;\n",
       "    }\n",
       "\n",
       "    .dataframe tbody tr th {\n",
       "        vertical-align: top;\n",
       "    }\n",
       "\n",
       "    .dataframe thead th {\n",
       "        text-align: right;\n",
       "    }\n",
       "</style>\n",
       "<table border=\"1\" class=\"dataframe\">\n",
       "  <thead>\n",
       "    <tr style=\"text-align: right;\">\n",
       "      <th></th>\n",
       "      <th>text</th>\n",
       "      <th>target</th>\n",
       "      <th>cleaned_text</th>\n",
       "    </tr>\n",
       "  </thead>\n",
       "  <tbody>\n",
       "    <tr>\n",
       "      <th>0</th>\n",
       "      <td>Our Deeds are the Reason of this #earthquake M...</td>\n",
       "      <td>1</td>\n",
       "      <td>deed reason earthquak may allah forgiv us</td>\n",
       "    </tr>\n",
       "    <tr>\n",
       "      <th>1</th>\n",
       "      <td>Forest fire near La Ronge Sask. Canada</td>\n",
       "      <td>1</td>\n",
       "      <td>forest fire near la rong sask canada</td>\n",
       "    </tr>\n",
       "    <tr>\n",
       "      <th>2</th>\n",
       "      <td>All residents asked to 'shelter in place' are ...</td>\n",
       "      <td>1</td>\n",
       "      <td>resid ask shelter place notifi offic evacu she...</td>\n",
       "    </tr>\n",
       "    <tr>\n",
       "      <th>3</th>\n",
       "      <td>13,000 people receive #wildfires evacuation or...</td>\n",
       "      <td>1</td>\n",
       "      <td>peopl receiv wildfir evacu order california</td>\n",
       "    </tr>\n",
       "    <tr>\n",
       "      <th>4</th>\n",
       "      <td>Just got sent this photo from Ruby #Alaska as ...</td>\n",
       "      <td>1</td>\n",
       "      <td>got sent photo rubi alaska smoke wildfir pour ...</td>\n",
       "    </tr>\n",
       "    <tr>\n",
       "      <th>...</th>\n",
       "      <td>...</td>\n",
       "      <td>...</td>\n",
       "      <td>...</td>\n",
       "    </tr>\n",
       "    <tr>\n",
       "      <th>7604</th>\n",
       "      <td>#WorldNews Fallen powerlines on G:link tram: U...</td>\n",
       "      <td>1</td>\n",
       "      <td>worldnew fallen powerlin glink tram updat fire...</td>\n",
       "    </tr>\n",
       "    <tr>\n",
       "      <th>7605</th>\n",
       "      <td>on the flip side I'm at Walmart and there is a...</td>\n",
       "      <td>1</td>\n",
       "      <td>flip side im walmart bomb everyon evacu stay t...</td>\n",
       "    </tr>\n",
       "    <tr>\n",
       "      <th>7606</th>\n",
       "      <td>Suicide bomber kills 15 in Saudi security site...</td>\n",
       "      <td>1</td>\n",
       "      <td>suicid bomber kill saudi secur site mosqu reut...</td>\n",
       "    </tr>\n",
       "    <tr>\n",
       "      <th>7608</th>\n",
       "      <td>Two giant cranes holding a bridge collapse int...</td>\n",
       "      <td>1</td>\n",
       "      <td>two giant crane hold bridg collaps nearbi home...</td>\n",
       "    </tr>\n",
       "    <tr>\n",
       "      <th>7612</th>\n",
       "      <td>The Latest: More Homes Razed by Northern Calif...</td>\n",
       "      <td>1</td>\n",
       "      <td>latest home raze northern california wildfir a...</td>\n",
       "    </tr>\n",
       "  </tbody>\n",
       "</table>\n",
       "<p>7521 rows × 3 columns</p>\n",
       "</div>"
      ],
      "text/plain": [
       "                                                   text  target  \\\n",
       "0     Our Deeds are the Reason of this #earthquake M...       1   \n",
       "1                Forest fire near La Ronge Sask. Canada       1   \n",
       "2     All residents asked to 'shelter in place' are ...       1   \n",
       "3     13,000 people receive #wildfires evacuation or...       1   \n",
       "4     Just got sent this photo from Ruby #Alaska as ...       1   \n",
       "...                                                 ...     ...   \n",
       "7604  #WorldNews Fallen powerlines on G:link tram: U...       1   \n",
       "7605  on the flip side I'm at Walmart and there is a...       1   \n",
       "7606  Suicide bomber kills 15 in Saudi security site...       1   \n",
       "7608  Two giant cranes holding a bridge collapse int...       1   \n",
       "7612  The Latest: More Homes Razed by Northern Calif...       1   \n",
       "\n",
       "                                           cleaned_text  \n",
       "0             deed reason earthquak may allah forgiv us  \n",
       "1                  forest fire near la rong sask canada  \n",
       "2     resid ask shelter place notifi offic evacu she...  \n",
       "3           peopl receiv wildfir evacu order california  \n",
       "4     got sent photo rubi alaska smoke wildfir pour ...  \n",
       "...                                                 ...  \n",
       "7604  worldnew fallen powerlin glink tram updat fire...  \n",
       "7605  flip side im walmart bomb everyon evacu stay t...  \n",
       "7606  suicid bomber kill saudi secur site mosqu reut...  \n",
       "7608  two giant crane hold bridg collaps nearbi home...  \n",
       "7612  latest home raze northern california wildfir a...  \n",
       "\n",
       "[7521 rows x 3 columns]"
      ]
     },
     "execution_count": 30,
     "metadata": {},
     "output_type": "execute_result"
    }
   ],
   "source": [
    "# Show tweets after cleaning\n",
    "train_data"
   ]
  },
  {
   "cell_type": "markdown",
   "id": "8563ca49",
   "metadata": {},
   "source": [
    "#### Converting Text into Numbers before Modeling"
   ]
  },
  {
   "cell_type": "code",
   "execution_count": 32,
   "id": "421ecf44",
   "metadata": {},
   "outputs": [],
   "source": [
    "tf_idf=TfidfVectorizer()"
   ]
  },
  {
   "cell_type": "code",
   "execution_count": 33,
   "id": "ae30c47e",
   "metadata": {},
   "outputs": [],
   "source": [
    "# Identify input and output before splitting\n",
    "x=tf_idf.fit_transform(train_data['cleaned_text'])\n",
    "y=train_data['target']"
   ]
  },
  {
   "cell_type": "code",
   "execution_count": 34,
   "id": "d08e9101",
   "metadata": {},
   "outputs": [],
   "source": [
    "# Splitting Data\n",
    "X_train,X_test,y_train,y_test=train_test_split(x,y,test_size=0.2,random_state=0)"
   ]
  },
  {
   "cell_type": "markdown",
   "id": "22c3b8e1",
   "metadata": {},
   "source": [
    "### Modeling Using ML Algorithms"
   ]
  },
  {
   "cell_type": "markdown",
   "id": "d9c88bdb",
   "metadata": {},
   "source": [
    "#### 1. Logistic Regression"
   ]
  },
  {
   "cell_type": "code",
   "execution_count": 35,
   "id": "697624fe",
   "metadata": {},
   "outputs": [
    {
     "name": "stdout",
     "output_type": "stream",
     "text": [
      "Accuracy: 0.7880\n",
      "Classification Report of Logistic Regression:\n",
      "               precision    recall  f1-score   support\n",
      "\n",
      "           0       0.75      0.93      0.83       841\n",
      "           1       0.87      0.61      0.72       664\n",
      "\n",
      "    accuracy                           0.79      1505\n",
      "   macro avg       0.81      0.77      0.77      1505\n",
      "weighted avg       0.80      0.79      0.78      1505\n",
      "\n"
     ]
    }
   ],
   "source": [
    "log_r=LogisticRegression()\n",
    "log_r.fit(X_train,y_train)\n",
    "logr_y_pred=log_r.predict(X_test)\n",
    "accuracy = accuracy_score(y_test, logr_y_pred)\n",
    "print(f'Accuracy: {accuracy:.4f}')\n",
    "print(\"Classification Report of Logistic Regression:\\n\", classification_report(y_test, logr_y_pred))"
   ]
  },
  {
   "cell_type": "code",
   "execution_count": 36,
   "id": "8e69f094",
   "metadata": {},
   "outputs": [
    {
     "name": "stdout",
     "output_type": "stream",
     "text": [
      "Training accuracy: 0.8896276595744681\n",
      "Test accuracy: 0.7880398671096346\n"
     ]
    }
   ],
   "source": [
    "print('Training accuracy:', log_r.score(X_train,y_train))\n",
    "print('Test accuracy:', log_r.score(X_test,y_test))"
   ]
  },
  {
   "cell_type": "code",
   "execution_count": 37,
   "id": "0721bd14",
   "metadata": {},
   "outputs": [
    {
     "data": {
      "text/plain": [
       "<Axes: >"
      ]
     },
     "execution_count": 37,
     "metadata": {},
     "output_type": "execute_result"
    },
    {
     "data": {
      "image/png": "[encoded data removed]",
      "text/plain": [
       "<Figure size 432x288 with 2 Axes>"
      ]
     },
     "metadata": {
      "needs_background": "light"
     },
     "output_type": "display_data"
    }
   ],
   "source": [
    "sns.heatmap(confusion_matrix(y_test,logr_y_pred), annot=True, fmt=\"d\")"
   ]
  },
  {
   "cell_type": "markdown",
   "id": "15cea5e5",
   "metadata": {},
   "source": [
    "#### 2. Random Forest"
   ]
  },
  {
   "cell_type": "code",
   "execution_count": 38,
   "id": "5eb05c62",
   "metadata": {},
   "outputs": [
    {
     "name": "stdout",
     "output_type": "stream",
     "text": [
      "Accuracy: 0.7721\n",
      "Classification Report of Random Forest:\n",
      "               precision    recall  f1-score   support\n",
      "\n",
      "           0       0.74      0.91      0.82       841\n",
      "           1       0.84      0.60      0.70       664\n",
      "\n",
      "    accuracy                           0.77      1505\n",
      "   macro avg       0.79      0.75      0.76      1505\n",
      "weighted avg       0.78      0.77      0.76      1505\n",
      "\n"
     ]
    }
   ],
   "source": [
    "rf=RandomForestClassifier()\n",
    "rf.fit(X_train,y_train)\n",
    "rf_y_pred=rf.predict(X_test)\n",
    "accuracy = accuracy_score(y_test, rf_y_pred)\n",
    "print(f'Accuracy: {accuracy:.4f}')\n",
    "print(\"Classification Report of Random Forest:\\n\", classification_report(y_test, rf_y_pred))"
   ]
  },
  {
   "cell_type": "code",
   "execution_count": 39,
   "id": "fe3e3378",
   "metadata": {},
   "outputs": [
    {
     "name": "stdout",
     "output_type": "stream",
     "text": [
      "Training accuracy: 0.9971742021276596\n",
      "Test accuracy: 0.772093023255814\n"
     ]
    }
   ],
   "source": [
    "print('Training accuracy:', rf.score(X_train,y_train))\n",
    "print('Test accuracy:', rf.score(X_test,y_test))"
   ]
  },
  {
   "cell_type": "code",
   "execution_count": 40,
   "id": "1ebdce42",
   "metadata": {},
   "outputs": [
    {
     "data": {
      "text/plain": [
       "<Axes: >"
      ]
     },
     "execution_count": 40,
     "metadata": {},
     "output_type": "execute_result"
    },
    {
     "data": {
      "image/png": "[encoded data removed]",
      "text/plain": [
       "<Figure size 432x288 with 2 Axes>"
      ]
     },
     "metadata": {
      "needs_background": "light"
     },
     "output_type": "display_data"
    }
   ],
   "source": [
    "sns.heatmap(confusion_matrix(y_test,rf_y_pred), annot=True, fmt=\"d\")"
   ]
  },
  {
   "cell_type": "markdown",
   "id": "70e7c229",
   "metadata": {},
   "source": [
    "#### 3. Naive Bayes"
   ]
  },
  {
   "cell_type": "code",
   "execution_count": 41,
   "id": "bd1e9d67",
   "metadata": {},
   "outputs": [
    {
     "name": "stdout",
     "output_type": "stream",
     "text": [
      "Accuracy: 0.7874\n",
      "Classification Report of Naive Bayes:\n",
      "               precision    recall  f1-score   support\n",
      "\n",
      "           0       0.75      0.93      0.83       841\n",
      "           1       0.87      0.61      0.72       664\n",
      "\n",
      "    accuracy                           0.79      1505\n",
      "   macro avg       0.81      0.77      0.77      1505\n",
      "weighted avg       0.80      0.79      0.78      1505\n",
      "\n"
     ]
    }
   ],
   "source": [
    "nb=MultinomialNB()\n",
    "nb.fit(X_train,y_train)\n",
    "nb_y_pred=nb.predict(X_test)\n",
    "accuracy = accuracy_score(y_test, nb_y_pred)\n",
    "print(f'Accuracy: {accuracy:.4f}')\n",
    "print(\"Classification Report of Naive Bayes:\\n\", classification_report(y_test, logr_y_pred))"
   ]
  },
  {
   "cell_type": "code",
   "execution_count": 42,
   "id": "be5432e7",
   "metadata": {},
   "outputs": [
    {
     "name": "stdout",
     "output_type": "stream",
     "text": [
      "Training accuracy: 0.9005984042553191\n",
      "Test accuracy: 0.7873754152823921\n"
     ]
    }
   ],
   "source": [
    "print('Training accuracy:', nb.score(X_train,y_train))\n",
    "print('Test accuracy:', nb.score(X_test,y_test))"
   ]
  },
  {
   "cell_type": "code",
   "execution_count": 43,
   "id": "7e4ac4cc",
   "metadata": {},
   "outputs": [
    {
     "data": {
      "text/plain": [
       "<Axes: >"
      ]
     },
     "execution_count": 43,
     "metadata": {},
     "output_type": "execute_result"
    },
    {
     "data": {
      "image/png": "[encoded data removed]",
      "text/plain": [
       "<Figure size 432x288 with 2 Axes>"
      ]
     },
     "metadata": {
      "needs_background": "light"
     },
     "output_type": "display_data"
    }
   ],
   "source": [
    "sns.heatmap(confusion_matrix(y_test,nb_y_pred), annot=True, fmt=\"d\")"
   ]
  },
  {
   "cell_type": "markdown",
   "id": "af71d3e2",
   "metadata": {},
   "source": [
    "#### 4.SVC"
   ]
  },
  {
   "cell_type": "code",
   "execution_count": 44,
   "id": "1c376f75",
   "metadata": {},
   "outputs": [
    {
     "name": "stdout",
     "output_type": "stream",
     "text": [
      "Accuracy: 0.7834\n",
      "Classification Report of SVC:\n",
      "               precision    recall  f1-score   support\n",
      "\n",
      "           0       0.74      0.93      0.83       841\n",
      "           1       0.88      0.59      0.71       664\n",
      "\n",
      "    accuracy                           0.78      1505\n",
      "   macro avg       0.81      0.76      0.77      1505\n",
      "weighted avg       0.80      0.78      0.77      1505\n",
      "\n"
     ]
    }
   ],
   "source": [
    "svc=SVC()\n",
    "svc.fit(X_train,y_train)\n",
    "svc_y_pred=svc.predict(X_test)\n",
    "accuracy = accuracy_score(y_test, svc_y_pred)\n",
    "print(f'Accuracy: {accuracy:.4f}')\n",
    "print(\"Classification Report of SVC:\\n\", classification_report(y_test, svc_y_pred))"
   ]
  },
  {
   "cell_type": "code",
   "execution_count": 45,
   "id": "cdf10adc",
   "metadata": {},
   "outputs": [
    {
     "name": "stdout",
     "output_type": "stream",
     "text": [
      "Training accuracy: 0.9720744680851063\n",
      "Test accuracy: 0.7833887043189369\n"
     ]
    }
   ],
   "source": [
    "print('Training accuracy:', svc.score(X_train,y_train))\n",
    "print('Test accuracy:', svc.score(X_test,y_test))"
   ]
  },
  {
   "cell_type": "code",
   "execution_count": 46,
   "id": "adbbbfc6",
   "metadata": {},
   "outputs": [
    {
     "data": {
      "text/plain": [
       "<Axes: >"
      ]
     },
     "execution_count": 46,
     "metadata": {},
     "output_type": "execute_result"
    },
    {
     "data": {
      "image/png": "[encoded data removed]",
      "text/plain": [
       "<Figure size 432x288 with 2 Axes>"
      ]
     },
     "metadata": {
      "needs_background": "light"
     },
     "output_type": "display_data"
    }
   ],
   "source": [
    "sns.heatmap(confusion_matrix(y_test,svc_y_pred), annot=True, fmt=\"d\")"
   ]
  },
  {
   "cell_type": "markdown",
   "id": "f6046f27",
   "metadata": {},
   "source": [
    "- Observation on Modeling:¶\n",
    "1. we notice that there is an obvious Overfitting using all 4 ML Models,As all mosels have almost trainning accuracy between 97, 99 % and testing accuracy 79 %.\n",
    "\n",
    "2. So I will apply Grid Search and Cross Validation to prevent Overfitting."
   ]
  },
  {
   "cell_type": "markdown",
   "id": "c07d7065",
   "metadata": {},
   "source": [
    "### Applying Grid Search to Reduce or Prevent Overfitting\n",
    "\n"
   ]
  },
  {
   "cell_type": "markdown",
   "id": "3bd8d915",
   "metadata": {},
   "source": [
    "#### 1. Grid Search on Logistic Regression"
   ]
  },
  {
   "cell_type": "code",
   "execution_count": 47,
   "id": "96fc5a03",
   "metadata": {},
   "outputs": [],
   "source": [
    "from sklearn.model_selection import GridSearchCV"
   ]
  },
  {
   "cell_type": "code",
   "execution_count": 48,
   "id": "6b63ebce",
   "metadata": {},
   "outputs": [
    {
     "data": {
      "text/html": [
       "<style>#sk-container-id-1 {color: black;background-color: white;}#sk-container-id-1 pre{padding: 0;}#sk-container-id-1 div.sk-toggleable {background-color: white;}#sk-container-id-1 label.sk-toggleable__label {cursor: pointer;display: block;width: 100%;margin-bottom: 0;padding: 0.3em;box-sizing: border-box;text-align: center;}#sk-container-id-1 label.sk-toggleable__label-arrow:before {content: \"▸\";float: left;margin-right: 0.25em;color: #696969;}#sk-container-id-1 label.sk-toggleable__label-arrow:hover:before {color: black;}#sk-container-id-1 div.sk-estimator:hover label.sk-toggleable__label-arrow:before {color: black;}#sk-container-id-1 div.sk-toggleable__content {max-height: 0;max-width: 0;overflow: hidden;text-align: left;background-color: #f0f8ff;}#sk-container-id-1 div.sk-toggleable__content pre {margin: 0.2em;color: black;border-radius: 0.25em;background-color: #f0f8ff;}#sk-container-id-1 input.sk-toggleable__control:checked~div.sk-toggleable__content {max-height: 200px;max-width: 100%;overflow: auto;}#sk-container-id-1 input.sk-toggleable__control:checked~label.sk-toggleable__label-arrow:before {content: \"▾\";}#sk-container-id-1 div.sk-estimator input.sk-toggleable__control:checked~label.sk-toggleable__label {background-color: #d4ebff;}#sk-container-id-1 div.sk-label input.sk-toggleable__control:checked~label.sk-toggleable__label {background-color: #d4ebff;}#sk-container-id-1 input.sk-hidden--visually {border: 0;clip: rect(1px 1px 1px 1px);clip: rect(1px, 1px, 1px, 1px);height: 1px;margin: -1px;overflow: hidden;padding: 0;position: absolute;width: 1px;}#sk-container-id-1 div.sk-estimator {font-family: monospace;background-color: #f0f8ff;border: 1px dotted black;border-radius: 0.25em;box-sizing: border-box;margin-bottom: 0.5em;}#sk-container-id-1 div.sk-estimator:hover {background-color: #d4ebff;}#sk-container-id-1 div.sk-parallel-item::after {content: \"\";width: 100%;border-bottom: 1px solid gray;flex-grow: 1;}#sk-container-id-1 div.sk-label:hover label.sk-toggleable__label {background-color: #d4ebff;}#sk-container-id-1 div.sk-serial::before {content: \"\";position: absolute;border-left: 1px solid gray;box-sizing: border-box;top: 0;bottom: 0;left: 50%;z-index: 0;}#sk-container-id-1 div.sk-serial {display: flex;flex-direction: column;align-items: center;background-color: white;padding-right: 0.2em;padding-left: 0.2em;position: relative;}#sk-container-id-1 div.sk-item {position: relative;z-index: 1;}#sk-container-id-1 div.sk-parallel {display: flex;align-items: stretch;justify-content: center;background-color: white;position: relative;}#sk-container-id-1 div.sk-item::before, #sk-container-id-1 div.sk-parallel-item::before {content: \"\";position: absolute;border-left: 1px solid gray;box-sizing: border-box;top: 0;bottom: 0;left: 50%;z-index: -1;}#sk-container-id-1 div.sk-parallel-item {display: flex;flex-direction: column;z-index: 1;position: relative;background-color: white;}#sk-container-id-1 div.sk-parallel-item:first-child::after {align-self: flex-end;width: 50%;}#sk-container-id-1 div.sk-parallel-item:last-child::after {align-self: flex-start;width: 50%;}#sk-container-id-1 div.sk-parallel-item:only-child::after {width: 0;}#sk-container-id-1 div.sk-dashed-wrapped {border: 1px dashed gray;margin: 0 0.4em 0.5em 0.4em;box-sizing: border-box;padding-bottom: 0.4em;background-color: white;}#sk-container-id-1 div.sk-label label {font-family: monospace;font-weight: bold;display: inline-block;line-height: 1.2em;}#sk-container-id-1 div.sk-label-container {text-align: center;}#sk-container-id-1 div.sk-container {/* jupyter's `normalize.less` sets `[hidden] { display: none; }` but bootstrap.min.css set `[hidden] { display: none !important; }` so we also need the `!important` here to be able to override the default hidden behavior on the sphinx rendered scikit-learn.org. See: https://github.com/scikit-learn/scikit-learn/issues/21755 */display: inline-block !important;position: relative;}#sk-container-id-1 div.sk-text-repr-fallback {display: none;}</style><div id=\"sk-container-id-1\" class=\"sk-top-container\"><div class=\"sk-text-repr-fallback\"><pre>GridSearchCV(cv=5, estimator=LogisticRegression(),\n",
       "             param_grid={&#x27;C&#x27;: [0.001, 0.01, 0.1, 1, 10, 100]},\n",
       "             scoring=&#x27;accuracy&#x27;)</pre><b>In a Jupyter environment, please rerun this cell to show the HTML representation or trust the notebook. <br />On GitHub, the HTML representation is unable to render, please try loading this page with nbviewer.org.</b></div><div class=\"sk-container\" hidden><div class=\"sk-item sk-dashed-wrapped\"><div class=\"sk-label-container\"><div class=\"sk-label sk-toggleable\"><input class=\"sk-toggleable__control sk-hidden--visually\" id=\"sk-estimator-id-1\" type=\"checkbox\" ><label for=\"sk-estimator-id-1\" class=\"sk-toggleable__label sk-toggleable__label-arrow\">GridSearchCV</label><div class=\"sk-toggleable__content\"><pre>GridSearchCV(cv=5, estimator=LogisticRegression(),\n",
       "             param_grid={&#x27;C&#x27;: [0.001, 0.01, 0.1, 1, 10, 100]},\n",
       "             scoring=&#x27;accuracy&#x27;)</pre></div></div></div><div class=\"sk-parallel\"><div class=\"sk-parallel-item\"><div class=\"sk-item\"><div class=\"sk-label-container\"><div class=\"sk-label sk-toggleable\"><input class=\"sk-toggleable__control sk-hidden--visually\" id=\"sk-estimator-id-2\" type=\"checkbox\" ><label for=\"sk-estimator-id-2\" class=\"sk-toggleable__label sk-toggleable__label-arrow\">estimator: LogisticRegression</label><div class=\"sk-toggleable__content\"><pre>LogisticRegression()</pre></div></div></div><div class=\"sk-serial\"><div class=\"sk-item\"><div class=\"sk-estimator sk-toggleable\"><input class=\"sk-toggleable__control sk-hidden--visually\" id=\"sk-estimator-id-3\" type=\"checkbox\" ><label for=\"sk-estimator-id-3\" class=\"sk-toggleable__label sk-toggleable__label-arrow\">LogisticRegression</label><div class=\"sk-toggleable__content\"><pre>LogisticRegression()</pre></div></div></div></div></div></div></div></div></div></div>"
      ],
      "text/plain": [
       "GridSearchCV(cv=5, estimator=LogisticRegression(),\n",
       "             param_grid={'C': [0.001, 0.01, 0.1, 1, 10, 100]},\n",
       "             scoring='accuracy')"
      ]
     },
     "execution_count": 48,
     "metadata": {},
     "output_type": "execute_result"
    }
   ],
   "source": [
    "param_grid={'C':[0.001,0.01,0.1,1,10,100]}\n",
    "grid_search_lr=GridSearchCV(log_r,param_grid,cv=5,scoring='accuracy')\n",
    "grid_search_lr.fit(X_train,y_train)"
   ]
  },
  {
   "cell_type": "code",
   "execution_count": 49,
   "id": "2c0ccbba",
   "metadata": {},
   "outputs": [
    {
     "name": "stdout",
     "output_type": "stream",
     "text": [
      "Best C: 1\n"
     ]
    }
   ],
   "source": [
    "print(f\"Best C: {grid_search_lr.best_params_['C']}\")"
   ]
  },
  {
   "cell_type": "code",
   "execution_count": 50,
   "id": "8c756978",
   "metadata": {},
   "outputs": [
    {
     "name": "stdout",
     "output_type": "stream",
     "text": [
      "Training Accuracy of Logistic Regression : 88.96\n",
      "Testing Accuracy  of Logistic Regression: 78.80\n"
     ]
    }
   ],
   "source": [
    "# Take the best model of logistic with the best parameter to calculate training,testing accuracy\n",
    "best_model_lr=grid_search_lr.best_estimator_\n",
    "\n",
    "# Training Accuracy\n",
    "y_train_pred_lr=best_model_lr.predict(X_train)\n",
    "trainning_accuracy_lr=accuracy_score(y_train,y_train_pred_lr)\n",
    "\n",
    "# Testing Accuracy\n",
    "y_test_pred_lr=best_model_lr.predict(X_test)\n",
    "testing_accuracy_lr=accuracy_score(y_test,y_test_pred_lr)\n",
    "\n",
    "print(f\"Training Accuracy of Logistic Regression : {trainning_accuracy_lr * 100:.2f}\")\n",
    "print(f\"Testing Accuracy  of Logistic Regression: {testing_accuracy_lr * 100:.2f}\")"
   ]
  },
  {
   "cell_type": "code",
   "execution_count": 51,
   "id": "d5ce90e5",
   "metadata": {},
   "outputs": [
    {
     "name": "stdout",
     "output_type": "stream",
     "text": [
      "Classification Report  of Logistic Regression:\n",
      "               precision    recall  f1-score   support\n",
      "\n",
      "           0       0.75      0.93      0.83       841\n",
      "           1       0.87      0.61      0.72       664\n",
      "\n",
      "    accuracy                           0.79      1505\n",
      "   macro avg       0.81      0.77      0.77      1505\n",
      "weighted avg       0.80      0.79      0.78      1505\n",
      "\n"
     ]
    }
   ],
   "source": [
    "print(\"Classification Report  of Logistic Regression:\\n\", classification_report(y_test, y_test_pred_lr))"
   ]
  },
  {
   "cell_type": "markdown",
   "id": "413eebe4",
   "metadata": {},
   "source": [
    "#### 2.Grid Search on Random Forest"
   ]
  },
  {
   "cell_type": "code",
   "execution_count": 52,
   "id": "d65b2577",
   "metadata": {},
   "outputs": [
    {
     "name": "stdout",
     "output_type": "stream",
     "text": [
      " Best params of Random Forest:  {'max_depth': None, 'min_samples_split': 20, 'n_estimators': 200}\n"
     ]
    }
   ],
   "source": [
    "param_grid={'n_estimators':[50,100,200],\n",
    "            'max_depth':[5,10,20,None],\n",
    "            'min_samples_split':[2,5,10,20]\n",
    "           }\n",
    "grid_search_rf=GridSearchCV(rf,param_grid,cv=5,scoring='accuracy')\n",
    "grid_search_rf.fit(X_train,y_train)\n",
    "print(\" Best params of Random Forest: \",grid_search_rf.best_params_)"
   ]
  },
  {
   "cell_type": "code",
   "execution_count": 53,
   "id": "0c4f0c61",
   "metadata": {},
   "outputs": [
    {
     "name": "stdout",
     "output_type": "stream",
     "text": [
      "Training Accuracy of Random Forest : 97.71\n",
      "Testing Accuracy  of Random Forest : 78.14\n"
     ]
    }
   ],
   "source": [
    "# Take the best model of Random Forest with the best parameter to calculate training,testing accuracy\n",
    "best_model_rf=grid_search_rf.best_estimator_\n",
    "\n",
    "# Training Accuracy\n",
    "y_train_pred_rf=best_model_rf.predict(X_train)\n",
    "trainning_accuracy_rf=accuracy_score(y_train,y_train_pred_rf)\n",
    "\n",
    "# Testing Accuracy\n",
    "y_test_pred_rf=best_model_rf.predict(X_test)\n",
    "testing_accuracy_rf=accuracy_score(y_test,y_test_pred_rf)\n",
    "\n",
    "print(f\"Training Accuracy of Random Forest : {trainning_accuracy_rf * 100:.2f}\")\n",
    "print(f\"Testing Accuracy  of Random Forest : {testing_accuracy_rf * 100:.2f}\")"
   ]
  },
  {
   "cell_type": "code",
   "execution_count": 54,
   "id": "a05da897",
   "metadata": {},
   "outputs": [
    {
     "name": "stdout",
     "output_type": "stream",
     "text": [
      "Classification Report of Random Forest after Grid Search:\n",
      "               precision    recall  f1-score   support\n",
      "\n",
      "           0       0.75      0.90      0.82       841\n",
      "           1       0.84      0.63      0.72       664\n",
      "\n",
      "    accuracy                           0.78      1505\n",
      "   macro avg       0.80      0.77      0.77      1505\n",
      "weighted avg       0.79      0.78      0.78      1505\n",
      "\n"
     ]
    }
   ],
   "source": [
    "print(\"Classification Report of Random Forest after Grid Search:\\n\",\n",
    "      classification_report(y_test, y_test_pred_rf))"
   ]
  },
  {
   "cell_type": "markdown",
   "id": "2d98c25e",
   "metadata": {},
   "source": [
    "- Observation on Random Forest After Grid Search:\n",
    "\n",
    "  1.Testing Accuracy improved 1% after applying Grid Search on Ravdom Forest.\n",
    "\n",
    " 2. OverFitting still occurs."
   ]
  },
  {
   "cell_type": "markdown",
   "id": "88a938a5",
   "metadata": {},
   "source": [
    "#### 3.Grid Search on SVC"
   ]
  },
  {
   "cell_type": "code",
   "execution_count": 55,
   "id": "f2a386ed",
   "metadata": {},
   "outputs": [
    {
     "name": "stdout",
     "output_type": "stream",
     "text": [
      " Best params of SVC:  {'C': 1, 'class_weight': 'balanced'}\n"
     ]
    }
   ],
   "source": [
    "param_grid={\n",
    "    'C':[0.001,0.01,0.1,1,10,],\n",
    "    'class_weight': [None, 'balanced']\n",
    "           }\n",
    "grid_search_svc=GridSearchCV(svc,param_grid,cv=5,scoring='accuracy')\n",
    "grid_search_svc.fit(X_train,y_train)\n",
    "print(\" Best params of SVC: \",grid_search_svc.best_params_)"
   ]
  },
  {
   "cell_type": "code",
   "execution_count": 56,
   "id": "7e074e7e",
   "metadata": {},
   "outputs": [
    {
     "name": "stdout",
     "output_type": "stream",
     "text": [
      "Training Accuracy of SVC : 98.02\n",
      "Testing Accuracy  of  SVC: 79.14\n"
     ]
    }
   ],
   "source": [
    "# Take the best model of logistic with the best parameter to calculate training,testing accuracy\n",
    "best_model_svc=grid_search_svc.best_estimator_\n",
    "\n",
    "# Training Accuracy\n",
    "y_train_pred_svc=best_model_svc.predict(X_train)\n",
    "trainning_accuracy_svc=accuracy_score(y_train,y_train_pred_svc)\n",
    "\n",
    "# Testing Accuracy\n",
    "y_test_pred_svc=best_model_svc.predict(X_test)\n",
    "testing_accuracy_svc=accuracy_score(y_test,y_test_pred_svc)\n",
    "\n",
    "print(f\"Training Accuracy of SVC : {trainning_accuracy_svc * 100:.2f}\")\n",
    "print(f\"Testing Accuracy  of  SVC: {testing_accuracy_svc * 100:.2f}\")"
   ]
  },
  {
   "cell_type": "code",
   "execution_count": 57,
   "id": "5976cd24",
   "metadata": {},
   "outputs": [
    {
     "name": "stdout",
     "output_type": "stream",
     "text": [
      "Classification Report of SVC after Grid Search:\n",
      "               precision    recall  f1-score   support\n",
      "\n",
      "           0       0.77      0.90      0.83       841\n",
      "           1       0.84      0.66      0.73       664\n",
      "\n",
      "    accuracy                           0.79      1505\n",
      "   macro avg       0.80      0.78      0.78      1505\n",
      "weighted avg       0.80      0.79      0.79      1505\n",
      "\n"
     ]
    }
   ],
   "source": [
    "print(\"Classification Report of SVC after Grid Search:\\n\",\n",
    "      classification_report(y_test, y_test_pred_svc))"
   ]
  },
  {
   "cell_type": "markdown",
   "id": "8d3c22b5",
   "metadata": {},
   "source": [
    "- Observation on SVC after Grid Search:\n",
    "\n",
    "  1.Testing Accuracy improved 1% after applying Grid Search on Ravdom Forest.\n",
    "\n",
    "2. OverFitting still occurs."
   ]
  },
  {
   "cell_type": "markdown",
   "id": "18461e45",
   "metadata": {},
   "source": [
    "### Results"
   ]
  },
  {
   "cell_type": "markdown",
   "id": "5fe55ec0",
   "metadata": {},
   "source": [
    "#### 1. Logistic Regression\n",
    "\n",
    "- Training accuracy: 0.8896276595744681\n",
    "- Test accuracy: 0.7880398671096346\n",
    "    \n",
    "#### Grid Search on Logistic Regression\n",
    "\n",
    "- Training Accuracy of Logistic Regression : 88.96\n",
    "- Testing Accuracy  of Logistic Regression: 78.80"
   ]
  },
  {
   "cell_type": "markdown",
   "id": "30853639",
   "metadata": {},
   "source": [
    "#### 2. Random Forest\n",
    "\n",
    "- Training accuracy: 0.9971742021276596\n",
    "- Test accuracy: 0.772093023255814\n",
    "    \n",
    "#### Grid Search on Random Forest\n",
    "\n",
    "- Training Accuracy of Random Forest : 97.71\n",
    "- Testing Accuracy  of Random Forest : 78.14"
   ]
  },
  {
   "cell_type": "markdown",
   "id": "20f26237",
   "metadata": {},
   "source": [
    "#### 3. Naive Bayes\n",
    "\n",
    "- Training accuracy: 0.9005984042553191\n",
    "- Test accuracy: 0.7873754152823921\n",
    "    "
   ]
  },
  {
   "cell_type": "markdown",
   "id": "b8d84d9f",
   "metadata": {},
   "source": [
    "#### 4. SVC\n",
    "\n",
    "- Training accuracy: 0.9720744680851063\n",
    "- Test accuracy: 0.7833887043189369\n",
    "    \n",
    "#### Grid Search on SVC\n",
    "\n",
    "- Training Accuracy of SVC : 98.02\n",
    "- Testing Accuracy  of  SVC: 79.14"
   ]
  },
  {
   "cell_type": "code",
   "execution_count": null,
   "id": "4c1263fe",
   "metadata": {},
   "outputs": [],
   "source": []
  }
 ],
 "metadata": {
  "kernelspec": {
   "display_name": "Python 3 (ipykernel)",
   "language": "python",
   "name": "python3"
  },
  "language_info": {
   "codemirror_mode": {
    "name": "ipython",
    "version": 3
   },
   "file_extension": ".py",
   "mimetype": "text/x-python",
   "name": "python",
   "nbconvert_exporter": "python",
   "pygments_lexer": "ipython3",
   "version": "3.10.5"
  }
 },
 "nbformat": 4,
 "nbformat_minor": 5
}
